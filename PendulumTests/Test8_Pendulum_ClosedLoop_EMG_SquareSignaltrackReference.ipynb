{
 "cells": [
  {
   "cell_type": "code",
   "execution_count": 1,
   "id": "cd61a70b",
   "metadata": {},
   "outputs": [],
   "source": [
    "import mujoco as mj\n",
    "from mujoco.glfw import glfw\n",
    "import numpy as np\n",
    "import os\n",
    "import matplotlib.pyplot as plt\n",
    "import pandas as pd\n",
    "\n",
    "\n",
    "xml_path = 'controlPos.xml'\n",
    "simend = 15\n",
    "\n",
    "# file with 0 = pi  and 1 = pi/2\n",
    "df = pd.read_csv(\"EMG_RawData_Griselda/senal_cuadrada.csv\")\n",
    "track = df[\"Signal\"]\n",
    "\n",
    "# For callback functions\n",
    "button_left = False\n",
    "button_middle = False\n",
    "button_right = False\n",
    "lastx = 0\n",
    "lasty = 0\n",
    "\n",
    "posiciones = []\n",
    "velocidades = []\n",
    "tiempos = []\n",
    "control = []\n",
    "\n",
    "#track = df[\"Activation\"]\n",
    "#track_value = 0\n",
    "#i = 0\n",
    "\n",
    " #track_value=track[i]\n",
    "       # i +=1\n",
    "\n",
    "def controller(model, data):\n",
    "    \"\"\"\n",
    "    This function implements a PD controller\n",
    "\n",
    "    Since there are no gravity compensation,\n",
    "    it will not be very accurate at tracking\n",
    "    the set point. It will be accurate if\n",
    "    gravity is turned off.\n",
    "    \"\"\"\n",
    "    ctrl_phase = 2 * np.pi  # Control phase\n",
    "    ctrl_freq = 0.5     # Control frequency\n",
    "    amplitud = 1\n",
    "    \n",
    "    ###################\n",
    "    \n",
    "    # Calcular la posición objetivo como una función senoidal\n",
    "    #target_position = amplitud * np.sin(ctrl_phase + 2 * np.pi * ctrl_freq * data.time)\n",
    "    \n",
    "    # funciona para señal continua\n",
    "    # i= round(data.time/0.002)\n",
    "    # target_position = track[i]\n",
    "    \n",
    "    # Para switching\n",
    "    i= round(data.time/0.002)\n",
    "    \n",
    "    if track[i] == 0:\n",
    "        target_position = 0\n",
    "    else:\n",
    "        target_position =np.pi\n",
    "    \n",
    "    ####################\n",
    "    \n",
    "    \n",
    "    if actuator_type == \"torque\":\n",
    "        model.actuator_gainprm[0, 0] = 1\n",
    "        data.ctrl[0] = -10 * (data.sensordata[0] - target_position) - 1 * (data.sensordata[1]) # PD control\n",
    "\n",
    "    elif actuator_type == \"servo\":\n",
    "        kp = 10.0\n",
    "        model.actuator_gainprm[1, 0] = kp # kp 0 0\n",
    "        model.actuator_biasprm[1, 1] = -kp # 0 -kp -kv\n",
    "        data.ctrl[1] = np.pi/2\n",
    "\n",
    "        #kv = 1.0\n",
    "        #model.actuator_gainprm[2, 0] = kv\n",
    "        #model.actuator_biasprm[2, 2] = -kv\n",
    "        #data.ctrl[2] = 0.2 # m/s, setpoint of the velocity servo, initial velocity?\n",
    "\n",
    "def keyboard(window, key, scancode, act, mods):\n",
    "    if act == glfw.PRESS and key == glfw.KEY_BACKSPACE:\n",
    "        mj.mj_resetData(model, data)\n",
    "        mj.mj_forward(model, data)\n",
    "\n",
    "        \n",
    "def mouse_button(window, button, act, mods):\n",
    "        # update button state\n",
    "        button_left = (glfw.get_mouse_button(\n",
    "            window, glfw.MOUSE_BUTTON_LEFT) == glfw.PRESS)\n",
    "        button_middle = (glfw.get_mouse_button(\n",
    "            window, glfw.MOUSE_BUTTON_MIDDLE) == glfw.PRESS)\n",
    "        button_right = (glfw.get_mouse_button(\n",
    "            window, glfw.MOUSE_BUTTON_RIGHT) == glfw.PRESS)\n",
    "\n",
    "        # update mouse position\n",
    "        glfw.get_cursor_pos(window)\n",
    "\n",
    "def mouse_move(window, xpos, ypos):\n",
    "    # compute mouse displacement, save\n",
    "    global lastx\n",
    "    global lasty\n",
    "    dx = xpos - lastx\n",
    "    dy = ypos - lasty\n",
    "    lastx = xpos\n",
    "    lasty = ypos\n",
    "\n",
    "    # no buttons down: nothing to do\n",
    "    if (not button_left) and (not button_middle) and (not button_right):\n",
    "        return\n",
    "\n",
    "    # get current window size\n",
    "    width, height = glfw.get_window_size(window)\n",
    "\n",
    "    # get shift key state\n",
    "    PRESS_LEFT_SHIFT = glfw.get_key(\n",
    "        window, glfw.KEY_LEFT_SHIFT) == glfw.PRESS\n",
    "    PRESS_RIGHT_SHIFT = glfw.get_key(\n",
    "        window, glfw.KEY_RIGHT_SHIFT) == glfw.PRESS\n",
    "    mod_shift = (PRESS_LEFT_SHIFT or PRESS_RIGHT_SHIFT)\n",
    "\n",
    "    # determine action based on mouse button\n",
    "    if button_right:\n",
    "        if mod_shift:\n",
    "            action = mj.mjtMouse.mjMOUSE_MOVE_H\n",
    "        else:\n",
    "            action = mj.mjtMouse.mjMOUSE_MOVE_V\n",
    "    elif button_left:\n",
    "        if mod_shift:\n",
    "            action = mj.mjtMouse.mjMOUSE_ROTATE_H\n",
    "        else:\n",
    "            action = mj.mjtMouse.mjMOUSE_ROTATE_V\n",
    "    else:\n",
    "        action = mj.mjtMouse.mjMOUSE_ZOOM\n",
    "\n",
    "    mj.mjv_moveCamera(model, action, dx/height,\n",
    "                      dy/height, scene, cam)\n",
    "\n",
    "def scroll(window, xoffset, yoffset):\n",
    "    action = mj.mjtMouse.mjMOUSE_ZOOM\n",
    "    mj.mjv_moveCamera(model, action, 0.0, -0.05 *\n",
    "                      yoffset, scene, cam)\n",
    "\n"
   ]
  },
  {
   "cell_type": "code",
   "execution_count": null,
   "id": "1e21f42e",
   "metadata": {},
   "outputs": [],
   "source": [
    "#i= tiempos[8]/0.002\n",
    "#print(i)\n",
    "#target_position = track[i]\n",
    "#print(target_position)"
   ]
  },
  {
   "cell_type": "code",
   "execution_count": null,
   "id": "5d417f1e",
   "metadata": {},
   "outputs": [],
   "source": [
    "#print(df[\"Activation\"])"
   ]
  },
  {
   "cell_type": "code",
   "execution_count": null,
   "id": "f5dc24cf",
   "metadata": {},
   "outputs": [],
   "source": []
  },
  {
   "cell_type": "code",
   "execution_count": null,
   "id": "510ec505",
   "metadata": {},
   "outputs": [],
   "source": [
    "#track[0]"
   ]
  },
  {
   "cell_type": "code",
   "execution_count": 2,
   "id": "d4278e46",
   "metadata": {},
   "outputs": [],
   "source": [
    "\n",
    "#get the full path\n",
    "#dirname = os.path.dirname(__file__)\n",
    "dirname = os.getcwd() # Use getcwd() to get the current working directory\n",
    "#abspath = os.path.join(dirname + \"/\" + xml_path)\n",
    "abspath = os.path.join(dirname, xml_path)\n",
    "xml_path = abspath\n",
    "\n",
    "# MuJoCo data structures\n",
    "model = mj.MjModel.from_xml_path(xml_path)  # MuJoCo model\n",
    "data = mj.MjData(model)                # MuJoCo data\n",
    "cam = mj.MjvCamera()                        # Abstract camera\n",
    "opt = mj.MjvOption()                        # visualization options\n",
    "\n",
    "# Init GLFW, create window, make OpenGL context current, request v-sync\n",
    "glfw.init()\n",
    "window = glfw.create_window(1200, 900, \"Demo\", None, None)\n",
    "glfw.make_context_current(window)\n",
    "glfw.swap_interval(1)\n",
    "\n",
    "# initialize visualization data structures\n",
    "mj.mjv_defaultCamera(cam)\n",
    "mj.mjv_defaultOption(opt)\n",
    "scene = mj.MjvScene(model, maxgeom=10000)\n",
    "context = mj.MjrContext(model, mj.mjtFontScale.mjFONTSCALE_150.value)\n",
    "\n",
    "# install GLFW mouse and keyboard callbacks\n",
    "glfw.set_key_callback(window, keyboard)\n",
    "glfw.set_cursor_pos_callback(window, mouse_move)\n",
    "glfw.set_mouse_button_callback(window, mouse_button)\n",
    "glfw.set_scroll_callback(window, scroll)\n",
    "\n",
    "#set initial conditions\n",
    "data.qpos[0] = np.pi # to only one degree of freedom '0'\n",
    "\n",
    "# Set camera configuration\n",
    "cam.azimuth = 90.0\n",
    "cam.distance = 5.0\n",
    "cam.elevation = -5\n",
    "cam.lookat = np.array([0.012768, -0.000000, 1.254336])\n",
    "\n",
    "#set the controller\n",
    "actuator_type = \"torque\"\n",
    "mj.set_mjcb_control(controller)\n",
    "\n",
    "###########################\n",
    "tiempouno = []\n",
    "\n",
    "\n",
    "#############\n",
    "while not glfw.window_should_close(window):\n",
    "    simstart = data.time\n",
    "    tiempouno.append(data.time)\n",
    "\n",
    "    while (data.time - simstart < 0.5/60.0):\n",
    "        mj.mj_step(model, data)\n",
    "        #################\n",
    "        posiciones.append(data.qpos[0])\n",
    "        velocidades.append(data.qvel[0])\n",
    "        control.append(data.ctrl[0])\n",
    "        tiempos.append(data.time)\n",
    "       \n",
    "        ####################\n",
    "        \n",
    "    if (data.time>=simend):\n",
    "        break;\n",
    "\n",
    "    # get framebuffer viewport\n",
    "    viewport_width, viewport_height = glfw.get_framebuffer_size(\n",
    "        window)\n",
    "    viewport = mj.MjrRect(0, 0, viewport_width, viewport_height)\n",
    "\n",
    "    # Update scene and render\n",
    "    mj.mjv_updateScene(model, data, opt, None, cam,\n",
    "                       mj.mjtCatBit.mjCAT_ALL.value, scene)\n",
    "    mj.mjr_render(viewport, scene, context)\n",
    "\n",
    "    # swap OpenGL buffers (blocking call due to v-sync)\n",
    "    glfw.swap_buffers(window)\n",
    "\n",
    "    # process pending GUI events, call GLFW callbacks\n",
    "    glfw.poll_events()\n",
    "\n",
    "glfw.terminate()"
   ]
  },
  {
   "cell_type": "code",
   "execution_count": null,
   "id": "3bd490be",
   "metadata": {},
   "outputs": [],
   "source": [
    "len(posiciones)\n"
   ]
  },
  {
   "cell_type": "code",
   "execution_count": null,
   "id": "41dcdfd7",
   "metadata": {},
   "outputs": [],
   "source": [
    "len(velocidades)\n"
   ]
  },
  {
   "cell_type": "code",
   "execution_count": null,
   "id": "a8b7077f",
   "metadata": {},
   "outputs": [],
   "source": [
    "len(control)\n"
   ]
  },
  {
   "cell_type": "code",
   "execution_count": null,
   "id": "90cf5735",
   "metadata": {},
   "outputs": [],
   "source": [
    "x= range(len(tiempos))"
   ]
  },
  {
   "cell_type": "code",
   "execution_count": null,
   "id": "48e62e33",
   "metadata": {},
   "outputs": [],
   "source": [
    "print(x[1])"
   ]
  },
  {
   "cell_type": "code",
   "execution_count": 11,
   "id": "a6789287",
   "metadata": {},
   "outputs": [
    {
     "data": {
      "image/png": "[encoded data removed]",
      "text/plain": [
       "<Figure size 432x288 with 1 Axes>"
      ]
     },
     "metadata": {
      "needs_background": "light"
     },
     "output_type": "display_data"
    }
   ],
   "source": [
    "# Crear el gráfico de la señal cuadrada que se usó como referencia\n",
    "plt.plot(tiempos, track[:len(tiempos)], color='b', label='Posición')\n",
    "\n",
    "# Agregar etiquetas y título\n",
    "plt.xlabel('Tiempo (s)')\n",
    "plt.ylabel('Activación')\n",
    "plt.title('Representación de señal cuadrada sin ruido')\n",
    "#plt.legend()  # Mostrar la leyenda\n",
    "plt.grid(True)  # Agregar una cuadrícula\n",
    "\n",
    "plt.savefig(\"SenalCuadradaIdeal.jpg\", format=\"jpg\", dpi=300)\n",
    "\n",
    "# Mostrar el gráfico\n",
    "plt.show()"
   ]
  },
  {
   "cell_type": "code",
   "execution_count": 12,
   "id": "526aa7c9",
   "metadata": {},
   "outputs": [
    {
     "data": {
      "image/png": "[encoded data removed]",
      "text/plain": [
       "<Figure size 432x288 with 1 Axes>"
      ]
     },
     "metadata": {
      "needs_background": "light"
     },
     "output_type": "display_data"
    }
   ],
   "source": [
    "# Crear el gráfico de la señal cuadrada que se usó como referencia\n",
    "plt.plot(tiempos, posiciones, color='g', label='Posición')\n",
    "\n",
    "# Agregar etiquetas y título\n",
    "plt.xlabel('Tiempo (s)')\n",
    "plt.ylabel('Posición (rad)')\n",
    "plt.title('Posición de péndulo siguiendo señal cuadrada')\n",
    "#plt.legend()  # Mostrar la leyenda\n",
    "plt.grid(True)  # Agregar una cuadrícula\n",
    "\n",
    "plt.savefig(\"PosPenduloSenalIdeal.jpg\", format=\"jpg\", dpi=300)\n",
    "\n",
    "# Mostrar el gráfico\n",
    "plt.show()"
   ]
  },
  {
   "cell_type": "code",
   "execution_count": 7,
   "id": "bf35b171",
   "metadata": {},
   "outputs": [
    {
     "data": {
      "image/png": "[encoded data removed]",
      "text/plain": [
       "<Figure size 432x288 with 1 Axes>"
      ]
     },
     "metadata": {
      "needs_background": "light"
     },
     "output_type": "display_data"
    }
   ],
   "source": [
    "# Señal cuadrada y posición actual\n",
    "plt.plot(tiempos, posiciones, label='Posición', color='b')  # Graficar señal 1\n",
    "plt.plot(tiempos, track[:len(tiempos)], label='Control', color='r')  # Graficar señal 2\n",
    "\n",
    "# Agregar etiquetas y título\n",
    "\n",
    "plt.xlabel('Tiempo (s)')\n",
    "plt.ylabel('Valor de la señal')\n",
    "plt.title('Gráfico de dos señales con respecto al tiempo')\n",
    "plt.legend()  # Mostrar la leyenda para distinguir las señales\n",
    "plt.grid(True)  # Agregar una cuadrícula para facilitar la lectura\n",
    "\n",
    "# Mostrar el gráfico\n",
    "plt.show()"
   ]
  },
  {
   "cell_type": "code",
   "execution_count": null,
   "id": "90177055",
   "metadata": {},
   "outputs": [],
   "source": [
    "# Crear el gráfico\n",
    "plt.plot(tiempos, velocidades, color='b', label='Posición')\n",
    "\n",
    "# Agregar etiquetas y título\n",
    "plt.xlabel('Tiempo (s)')\n",
    "plt.ylabel('Velocidad (rad/s)')\n",
    "plt.title('Gráfico de Tiempo vs Velocidad')\n",
    "plt.legend()  # Mostrar la leyenda\n",
    "plt.grid(True)  # Agregar una cuadrícula\n",
    "\n",
    "# Mostrar el gráfico\n",
    "plt.show()"
   ]
  },
  {
   "cell_type": "code",
   "execution_count": null,
   "id": "1baf90a0",
   "metadata": {},
   "outputs": [],
   "source": [
    "# Crear el gráfico\n",
    "plt.plot(tiempos, control, color='b', label='Posición')\n",
    "\n",
    "# Agregar etiquetas y título\n",
    "plt.xlabel('Tiempo (s)')\n",
    "plt.ylabel('Control ')\n",
    "plt.title('Gráfico de Tiempo vs Control')\n",
    "#plt.legend()  # Mostrar la leyenda\n",
    "plt.grid(True)  # Agregar una cuadrícula\n",
    "\n",
    "# Mostrar el gráfico\n",
    "plt.show()"
   ]
  },
  {
   "cell_type": "code",
   "execution_count": null,
   "id": "6be49ace",
   "metadata": {},
   "outputs": [],
   "source": [
    "# Crear el gráfico\n",
    "plt.plot(df, color='b', label='Posición')\n",
    "\n",
    "# Agregar etiquetas y título\n",
    "plt.xlabel('Tiempo (s)')\n",
    "plt.ylabel('Posición (rad)')\n",
    "plt.title('Gráfico de Tiempo vs Posición')\n",
    "plt.legend()  # Mostrar la leyenda\n",
    "plt.grid(True)  # Agregar una cuadrícula\n",
    "\n",
    "# Mostrar el gráfico\n",
    "plt.show()"
   ]
  }
 ],
 "metadata": {
  "kernelspec": {
   "display_name": "Python 3 (ipykernel)",
   "language": "python",
   "name": "python3"
  },
  "language_info": {
   "codemirror_mode": {
    "name": "ipython",
    "version": 3
   },
   "file_extension": ".py",
   "mimetype": "text/x-python",
   "name": "python",
   "nbconvert_exporter": "python",
   "pygments_lexer": "ipython3",
   "version": "3.9.12"
  }
 },
 "nbformat": 4,
 "nbformat_minor": 5
}
